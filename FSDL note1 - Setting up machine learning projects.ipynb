{
 "cells": [
  {
   "attachments": {},
   "cell_type": "markdown",
   "metadata": {},
   "source": [
    "# Setting up machine learning projects\n",
    "    running case study- pose estimation\n",
    "<img style=\"float: left;\" src=\"./FSDL/WeChat%20Screenshot_20201020012303.png\" width=500 height=300>"
   ]
  },
  {
   "cell_type": "markdown",
   "metadata": {},
   "source": [
    "## Overview\n",
    "    85% of AI projects fail -Pactera technologies\n",
    "        ML is still research, therefore it is very challenging to aim for 100% success rate.\n",
    "        Many ML projects are technically infeasible or poorly scoped.\n",
    "        Many ML projects never make the leap into production.\n",
    "        Many ML projects have unclear success criteria.\n",
    "        Many ML projects are poorly managed."
   ]
  },
  {
   "attachments": {},
   "cell_type": "markdown",
   "metadata": {},
   "source": [
    "## Lifecycle\n",
    "    How to think about all of the activities in an ML project\n",
    "\n",
    "<img style=\"float: left;\" src=\"./FSDL/WeChat%20Screenshot_20201020014453.png\" width=300 height=300>\n",
    "    \n",
    "    \n",
    "    \n",
    "    Phase 1 is Project Planning and Project Setup: At this phase, we want to decide the problem to work on, determine the requirements and goals, as well as figure out how to allocate resources properly.\n",
    "\n",
    "    Phase 2 is Data Collection and Data Labeling: At this phase, we want to collect training data (images, text, tabular, etc.) and potentially annotate them with ground truth, depending on the specific sources where they come from.\n",
    "\n",
    "    Phase 3 is Model Training and Model Debugging: At this phase, we want to implement baseline models quickly, find and reproduce state-of-the-art methods for the problem domain, debug our implementation, and improve the model performance for specific tasks.\n",
    "\n",
    "    Phase 4 is Model Deployment and Model Testing: At this phase, we want to pilot the model in a constrained environment, write tests to prevent regressions, and roll the model into production.\n"
   ]
  },
  {
   "cell_type": "markdown",
   "metadata": {},
   "source": [
    "## Prioritizing\n",
    "    Assessing the feasibility and impact of your projects\n",
    "<img style=\"float: left;\" src=\"./FSDL/WeChat%20Screenshot_20201020015713.png\" width=300 height=300>\n",
    "\n",
    "    Two questions:\n",
    "        Where can you take advantage of the cheap prediction? (consider the business impact)\n",
    "        Where can you automate complicated manual processes?\n",
    "    Three aspects with regard to feasibility:\n",
    "        Problem difficulty (Good published work? Compute needed for training? Compute needed for deployment?)\n",
    "        Accuracy requirement (How costly are wrong predictions? Efficiency threshold for accuracy)\n",
    "        Data availability (How much data needed? How hard to crawl data? How expensive is data labeling?)\n",
    "### Type of problems that is hard for now(skip it in the course project:))\n",
    "<img style=\"float: left\" src=\"./FSDL/WeChat%20Screenshot_20201020021620.png\" width=500 height=500>    "
   ]
  },
  {
   "cell_type": "markdown",
   "metadata": {},
   "source": [
    "## Archetypes\n",
    "    The main categories of ML projects, and the implication for project management\n",
    "<img style=\"float: left\" src=\"./FSDL/WeChat%20Screenshot_20201020031327.png\" width=500 height=500>   \n",
    "\n",
    "    Archetype 1 - Projects that improve an existing process: improving route optimization in a ride-sharing service, building a customized churn prevention model, building a better video game AI.\n",
    "    Archetype 2 - Projects that augment a manual process: turning mockup designs into application UI, building a sentence auto-completion feature, helping a doctor to do his/her job more efficient.\n",
    "    Archetype 3 - Projects that automate a manual process: developing autonomous vehicles, automating customer service, automating website design.\n",
    "    Data flywheels*** is a concept saying that more users lead to more data, more data lead to better models, and better models lead to more users. Business-wise the concept of data flywheels is the perfect result for ML projects;\n",
    "    \n",
    "    \n",
    "    \n",
    "    Other than improving the things human agents can do, ML models also did many tasks beyond human's capability like generating deep fake videos etc. But I guess the course is to summarize the valuable human operations that could be replaced by ML models in organizations, which exclude some amazing applications(and also ambiguous in business purposes)"
   ]
  },
  {
   "cell_type": "markdown",
   "metadata": {},
   "source": [
    "## Metrics\n",
    "    How to pick a single number to optimize\n",
    "    \n",
    "    Ml engineers usually care about many metrics. However models work best when optimizing a single number.\n",
    "    Pick a formula for combining metrics and don't be surprise that it changes throughout ML projects.\n",
    "    \n",
    "    Again, precision is about (True positives/True+False positives);Recall is about (True positives/all YES)\n",
    "        Precision是识别的对象对了多少\n",
    "        Recall是识别的对象漏了多少\n",
    "    Thresholding metrics\n",
    "        Choosing which metric to threshold\n",
    "        Choosing threshold values"
   ]
  },
  {
   "cell_type": "markdown",
   "metadata": {},
   "source": [
    "## Baselines\n",
    "    How do you know your model is actually performing well\n",
    "    \n",
    "    A baseline is a model that is both simple to set up and has a reasonable chance of providing decent results. It gives you a lower bound on expected model performance.\n",
    "    Your choice of a simple baseline depends on the kind of data you are working with and the kind of task you are targeting.\n",
    "    You can look for external baselines such as business and engineering requirements, as well as published results from academic papers that tackle your problem domain.\n",
    "    You can also look for internal baselines using simple models and human performance.\n",
    "    There is a tradeoff between cost and quality when designing human baselines. More specialized domains require more skilled labelers, so you should find cases where the model performs worse and concentrate the data collection effort there.\n",
    "    \n",
    "<img style=\"float: left\" src=\"./FSDL/WeChat%20Screenshot_20201020041616.png\" width=500 height=500> "
   ]
  },
  {
   "cell_type": "code",
   "execution_count": null,
   "metadata": {},
   "outputs": [],
   "source": []
  }
 ],
 "metadata": {
  "kernelspec": {
   "display_name": "Python 3",
   "language": "python",
   "name": "python3"
  },
  "language_info": {
   "codemirror_mode": {
    "name": "ipython",
    "version": 3
   },
   "file_extension": ".py",
   "mimetype": "text/x-python",
   "name": "python",
   "nbconvert_exporter": "python",
   "pygments_lexer": "ipython3",
   "version": "3.7.4"
  }
 },
 "nbformat": 4,
 "nbformat_minor": 2
}
